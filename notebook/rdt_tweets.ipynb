{
 "cells": [
  {
   "cell_type": "code",
   "execution_count": 1,
   "metadata": {},
   "outputs": [
    {
     "name": "stdout",
     "output_type": "stream",
     "text": [
      "CPU times: user 988 ms, sys: 225 ms, total: 1.21 s\n",
      "Wall time: 1.26 s\n"
     ]
    }
   ],
   "source": [
    "%%time\n",
    "%matplotlib inline\n",
    "import pandas as pd\n",
    "import re\n",
    "from tool import import_dir; import_dir(\"../\")\n",
    "from src.lib import nlp as libnlp"
   ]
  },
  {
   "cell_type": "markdown",
   "metadata": {},
   "source": [
    "# Dataset"
   ]
  },
  {
   "cell_type": "code",
   "execution_count": 2,
   "metadata": {},
   "outputs": [
    {
     "name": "stdout",
     "output_type": "stream",
     "text": [
      "CPU times: user 154 ms, sys: 19.9 ms, total: 174 ms\n",
      "Wall time: 191 ms\n"
     ]
    }
   ],
   "source": [
    "%time data = pd.read_csv(\"../data/rdt-050409-111819.csv\")"
   ]
  },
  {
   "cell_type": "markdown",
   "metadata": {},
   "source": [
    "# PreProcess Data"
   ]
  },
  {
   "cell_type": "code",
   "execution_count": 4,
   "metadata": {},
   "outputs": [
    {
     "name": "stdout",
     "output_type": "stream",
     "text": [
      "CPU times: user 4.59 s, sys: 2.13 ms, total: 4.59 s\n",
      "Wall time: 4.61 s\n"
     ]
    }
   ],
   "source": [
    "%%time\n",
    "data = data.dropna()\n",
    "data.index = pd.to_datetime(data.created_at)\n",
    "data = data.drop([\"created_at\"], axis=\"columns\")"
   ]
  },
  {
   "cell_type": "markdown",
   "metadata": {},
   "source": [
    "# Filter\n",
    "This drops tweets that start with links under the assumption that the body only contains a link."
   ]
  },
  {
   "cell_type": "code",
   "execution_count": 5,
   "metadata": {},
   "outputs": [
    {
     "name": "stdout",
     "output_type": "stream",
     "text": [
      "CPU times: user 54.8 ms, sys: 1.94 ms, total: 56.7 ms\n",
      "Wall time: 56.1 ms\n"
     ]
    }
   ],
   "source": [
    "%%time\n",
    "f = lambda x: None if x[:4] in \"http\" else x\n",
    "data.text = data.text.apply(f)\n",
    "data = data.dropna()\n",
    "data = data[data.index > \"2019-02\"]"
   ]
  },
  {
   "cell_type": "markdown",
   "metadata": {},
   "source": [
    "# Language Model"
   ]
  },
  {
   "cell_type": "code",
   "execution_count": 3,
   "metadata": {},
   "outputs": [
    {
     "name": "stdout",
     "output_type": "stream",
     "text": [
      "CPU times: user 8.73 s, sys: 1.15 s, total: 9.88 s\n",
      "Wall time: 10.9 s\n"
     ]
    }
   ],
   "source": [
    "%time (nlp, keys, vectors) = libnlp.load_model(\"en_core_web_lg\")"
   ]
  },
  {
   "cell_type": "markdown",
   "metadata": {},
   "source": [
    "# Parse text with language model"
   ]
  },
  {
   "cell_type": "code",
   "execution_count": 14,
   "metadata": {},
   "outputs": [
    {
     "name": "stdout",
     "output_type": "stream",
     "text": [
      "CPU times: user 1min 2s, sys: 129 ms, total: 1min 2s\n",
      "Wall time: 1min 2s\n"
     ]
    }
   ],
   "source": [
    "f = lambda x: nlp(x)\n",
    "%time data.text = data.text.apply(f)"
   ]
  },
  {
   "cell_type": "markdown",
   "metadata": {},
   "source": [
    "# Tokenize"
   ]
  },
  {
   "cell_type": "code",
   "execution_count": 12,
   "metadata": {},
   "outputs": [
    {
     "name": "stdout",
     "output_type": "stream",
     "text": [
      "CPU times: user 19.9 s, sys: 6 s, total: 25.9 s\n",
      "Wall time: 26.1 s\n"
     ]
    }
   ],
   "source": [
    "%time tokenizer = libnlp.tokenizer(nlp)"
   ]
  },
  {
   "cell_type": "code",
   "execution_count": 15,
   "metadata": {},
   "outputs": [
    {
     "name": "stdout",
     "output_type": "stream",
     "text": [
      "CPU times: user 2.26 s, sys: 27.9 ms, total: 2.29 s\n",
      "Wall time: 2.3 s\n"
     ]
    }
   ],
   "source": [
    "f = lambda corpra: libnlp.tokenize(tokenizer, corpra)\n",
    "%time data[\"tokens\"] = data.text.apply(f)"
   ]
  },
  {
   "cell_type": "markdown",
   "metadata": {},
   "source": [
    "# Derive Topic"
   ]
  },
  {
   "cell_type": "code",
   "execution_count": 17,
   "metadata": {},
   "outputs": [
    {
     "name": "stdout",
     "output_type": "stream",
     "text": [
      "CPU times: user 1.29 s, sys: 5.11 ms, total: 1.3 s\n",
      "Wall time: 1.3 s\n"
     ]
    }
   ],
   "source": [
    "f = lambda tokens: libnlp.topic_vector(nlp, tokens)\n",
    "%time data[\"topic_vector\"] = data.tokens.apply(f)"
   ]
  },
  {
   "cell_type": "code",
   "execution_count": 19,
   "metadata": {},
   "outputs": [
    {
     "name": "stdout",
     "output_type": "stream",
     "text": [
      "CPU times: user 1h 31min 18s, sys: 1h 6min 23s, total: 2h 37min 41s\n",
      "Wall time: 2h 38min 26s\n"
     ]
    }
   ],
   "source": [
    "f = lambda vector: libnlp.topic_string(nlp, keys, vectors, vector)\n",
    "%time data[\"topic\"] = data.topic_vector.apply(f)"
   ]
  },
  {
   "cell_type": "code",
   "execution_count": 21,
   "metadata": {},
   "outputs": [
    {
     "data": {
      "text/html": [
       "<div>\n",
       "<style scoped>\n",
       "    .dataframe tbody tr th:only-of-type {\n",
       "        vertical-align: middle;\n",
       "    }\n",
       "\n",
       "    .dataframe tbody tr th {\n",
       "        vertical-align: top;\n",
       "    }\n",
       "\n",
       "    .dataframe thead th {\n",
       "        text-align: right;\n",
       "    }\n",
       "</style>\n",
       "<table border=\"1\" class=\"dataframe\">\n",
       "  <thead>\n",
       "    <tr style=\"text-align: right;\">\n",
       "      <th></th>\n",
       "      <th>source</th>\n",
       "      <th>text</th>\n",
       "      <th>retweet_count</th>\n",
       "      <th>favorite_count</th>\n",
       "      <th>is_retweet</th>\n",
       "      <th>id_str</th>\n",
       "      <th>tokens</th>\n",
       "      <th>topic_vector</th>\n",
       "      <th>topic</th>\n",
       "    </tr>\n",
       "    <tr>\n",
       "      <th>created_at</th>\n",
       "      <th></th>\n",
       "      <th></th>\n",
       "      <th></th>\n",
       "      <th></th>\n",
       "      <th></th>\n",
       "      <th></th>\n",
       "      <th></th>\n",
       "      <th></th>\n",
       "      <th></th>\n",
       "    </tr>\n",
       "  </thead>\n",
       "  <tbody>\n",
       "    <tr>\n",
       "      <th>2019-11-18 03:39:38</th>\n",
       "      <td>Twitter for iPhone</td>\n",
       "      <td>(“, All, they, do, is, bring, up, witnesses, w...</td>\n",
       "      <td>16083.0</td>\n",
       "      <td>60217</td>\n",
       "      <td>false</td>\n",
       "      <td>1.196272e+18</td>\n",
       "      <td>[“, All, they, do, is, bring, up, witnesses, w...</td>\n",
       "      <td>[-0.06569162, 0.049224027, -0.13754201, -0.038...</td>\n",
       "      <td>ThaT</td>\n",
       "    </tr>\n",
       "    <tr>\n",
       "      <th>2019-11-18 02:40:04</th>\n",
       "      <td>Twitter for iPhone</td>\n",
       "      <td>(“, The, Impeachment, started, before, he, eve...</td>\n",
       "      <td>18078.0</td>\n",
       "      <td>73353</td>\n",
       "      <td>false</td>\n",
       "      <td>1.196257e+18</td>\n",
       "      <td>[“, The, Impeachment, started, before, he, eve...</td>\n",
       "      <td>[0.025502997, 0.089400284, -0.02185314, -0.081...</td>\n",
       "      <td>WHen</td>\n",
       "    </tr>\n",
       "    <tr>\n",
       "      <th>2019-11-17 20:12:27</th>\n",
       "      <td>Twitter for iPhone</td>\n",
       "      <td>(Where, is, the, Fake, Whistleblower, ?)</td>\n",
       "      <td>26145.0</td>\n",
       "      <td>122225</td>\n",
       "      <td>false</td>\n",
       "      <td>1.196159e+18</td>\n",
       "      <td>[Where, is, the, Fake, Whistleblower, ?]</td>\n",
       "      <td>[-0.13752584, 0.074059494, -0.18962795, -0.041...</td>\n",
       "      <td>ThaT</td>\n",
       "    </tr>\n",
       "    <tr>\n",
       "      <th>2019-11-17 20:08:08</th>\n",
       "      <td>Twitter for iPhone</td>\n",
       "      <td>(Republicans, &amp;, amp, ;, others, must, remembe...</td>\n",
       "      <td>16764.0</td>\n",
       "      <td>62783</td>\n",
       "      <td>false</td>\n",
       "      <td>1.196158e+18</td>\n",
       "      <td>[Republicans, &amp;, amp, ;, others, must, remembe...</td>\n",
       "      <td>[-0.123433076, 0.16298212, -0.110808805, -0.12...</td>\n",
       "      <td>THERE</td>\n",
       "    </tr>\n",
       "    <tr>\n",
       "      <th>2019-11-17 20:03:44</th>\n",
       "      <td>Twitter for iPhone</td>\n",
       "      <td>(The, Crazed, Do, Nothing, Democrats, are, tur...</td>\n",
       "      <td>17646.0</td>\n",
       "      <td>69248</td>\n",
       "      <td>false</td>\n",
       "      <td>1.196157e+18</td>\n",
       "      <td>[The, Crazed, Do, Nothing, Democrats, are, tur...</td>\n",
       "      <td>[-0.10330248, 0.112459324, -0.016367562, -0.06...</td>\n",
       "      <td>way</td>\n",
       "    </tr>\n",
       "  </tbody>\n",
       "</table>\n",
       "</div>"
      ],
      "text/plain": [
       "                                 source  \\\n",
       "created_at                                \n",
       "2019-11-18 03:39:38  Twitter for iPhone   \n",
       "2019-11-18 02:40:04  Twitter for iPhone   \n",
       "2019-11-17 20:12:27  Twitter for iPhone   \n",
       "2019-11-17 20:08:08  Twitter for iPhone   \n",
       "2019-11-17 20:03:44  Twitter for iPhone   \n",
       "\n",
       "                                                                  text  \\\n",
       "created_at                                                               \n",
       "2019-11-18 03:39:38  (“, All, they, do, is, bring, up, witnesses, w...   \n",
       "2019-11-18 02:40:04  (“, The, Impeachment, started, before, he, eve...   \n",
       "2019-11-17 20:12:27           (Where, is, the, Fake, Whistleblower, ?)   \n",
       "2019-11-17 20:08:08  (Republicans, &, amp, ;, others, must, remembe...   \n",
       "2019-11-17 20:03:44  (The, Crazed, Do, Nothing, Democrats, are, tur...   \n",
       "\n",
       "                     retweet_count favorite_count is_retweet        id_str  \\\n",
       "created_at                                                                   \n",
       "2019-11-18 03:39:38        16083.0          60217      false  1.196272e+18   \n",
       "2019-11-18 02:40:04        18078.0          73353      false  1.196257e+18   \n",
       "2019-11-17 20:12:27        26145.0         122225      false  1.196159e+18   \n",
       "2019-11-17 20:08:08        16764.0          62783      false  1.196158e+18   \n",
       "2019-11-17 20:03:44        17646.0          69248      false  1.196157e+18   \n",
       "\n",
       "                                                                tokens  \\\n",
       "created_at                                                               \n",
       "2019-11-18 03:39:38  [“, All, they, do, is, bring, up, witnesses, w...   \n",
       "2019-11-18 02:40:04  [“, The, Impeachment, started, before, he, eve...   \n",
       "2019-11-17 20:12:27           [Where, is, the, Fake, Whistleblower, ?]   \n",
       "2019-11-17 20:08:08  [Republicans, &, amp, ;, others, must, remembe...   \n",
       "2019-11-17 20:03:44  [The, Crazed, Do, Nothing, Democrats, are, tur...   \n",
       "\n",
       "                                                          topic_vector  topic  \n",
       "created_at                                                                     \n",
       "2019-11-18 03:39:38  [-0.06569162, 0.049224027, -0.13754201, -0.038...   ThaT  \n",
       "2019-11-18 02:40:04  [0.025502997, 0.089400284, -0.02185314, -0.081...   WHen  \n",
       "2019-11-17 20:12:27  [-0.13752584, 0.074059494, -0.18962795, -0.041...   ThaT  \n",
       "2019-11-17 20:08:08  [-0.123433076, 0.16298212, -0.110808805, -0.12...  THERE  \n",
       "2019-11-17 20:03:44  [-0.10330248, 0.112459324, -0.016367562, -0.06...    way  "
      ]
     },
     "execution_count": 21,
     "metadata": {},
     "output_type": "execute_result"
    }
   ],
   "source": [
    "data.head()"
   ]
  },
  {
   "cell_type": "markdown",
   "metadata": {},
   "source": [
    "# Save"
   ]
  },
  {
   "cell_type": "code",
   "execution_count": 22,
   "metadata": {},
   "outputs": [
    {
     "name": "stdout",
     "output_type": "stream",
     "text": [
      "CPU times: user 15.3 s, sys: 57.9 ms, total: 15.4 s\n",
      "Wall time: 15.5 s\n"
     ]
    }
   ],
   "source": [
    "%time data.to_csv(\"../data/rdt_topic_201902_201911.csv\")"
   ]
  }
 ],
 "metadata": {
  "kernelspec": {
   "display_name": "Python 3",
   "language": "python",
   "name": "python3"
  },
  "language_info": {
   "codemirror_mode": {
    "name": "ipython",
    "version": 3
   },
   "file_extension": ".py",
   "mimetype": "text/x-python",
   "name": "python",
   "nbconvert_exporter": "python",
   "pygments_lexer": "ipython3",
   "version": "3.7.5"
  }
 },
 "nbformat": 4,
 "nbformat_minor": 4
}
