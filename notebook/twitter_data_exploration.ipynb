{
 "cells": [
  {
   "cell_type": "code",
   "execution_count": 1,
   "metadata": {},
   "outputs": [],
   "source": [
    "import json\n",
    "import pandas as pd\n",
    "import os"
   ]
  },
  {
   "cell_type": "code",
   "execution_count": 76,
   "metadata": {},
   "outputs": [],
   "source": [
    "def open_tweet(path):\n",
    "    with open(path) as f:\n",
    "        data = json.load(f)\n",
    "        data[\"Body\"] = [data[\"Body\"]]\n",
    "        data[\"Lang\"] = [data[\"Lang\"]]\n",
    "        for k,v in data[\"Meta\"].items():\n",
    "            data[k] = [v]\n",
    "        del data[\"Meta\"]\n",
    "        return data"
   ]
  },
  {
   "cell_type": "code",
   "execution_count": 89,
   "metadata": {},
   "outputs": [],
   "source": [
    "def wrangle_tweets(tweets):\n",
    "    data = open_tweet(f\"../data/{tweets[0]}\")\n",
    "    for tweet in tweets[1:]:\n",
    "        t = open_tweet(f\"../data/{tweet}\")\n",
    "        for k,v in t.items():\n",
    "            data[k] += v\n",
    "    return data"
   ]
  },
  {
   "cell_type": "code",
   "execution_count": 90,
   "metadata": {},
   "outputs": [
    {
     "name": "stdout",
     "output_type": "stream",
     "text": [
      "CPU times: user 14.9 ms, sys: 18.8 ms, total: 33.7 ms\n",
      "Wall time: 33.4 ms\n"
     ]
    }
   ],
   "source": [
    "%time tweets = os.listdir(\"../data\")"
   ]
  },
  {
   "cell_type": "code",
   "execution_count": 91,
   "metadata": {},
   "outputs": [
    {
     "name": "stdout",
     "output_type": "stream",
     "text": [
      "CPU times: user 1.6 s, sys: 297 ms, total: 1.89 s\n",
      "Wall time: 1.91 s\n"
     ]
    }
   ],
   "source": [
    "%time data = wrangle_tweets(tweets)"
   ]
  },
  {
   "cell_type": "code",
   "execution_count": 92,
   "metadata": {},
   "outputs": [],
   "source": [
    "df = pd.DataFrame(data)\n",
    "df.index = pd.to_datetime(df.CreatedAt)\n",
    "df = df.drop([\"CreatedAt\"], axis=\"columns\")"
   ]
  },
  {
   "cell_type": "code",
   "execution_count": 102,
   "metadata": {},
   "outputs": [
    {
     "data": {
      "text/plain": [
       "count           37655\n",
       "unique          35019\n",
       "top       raylondon66\n",
       "freq                8\n",
       "Name: ScreenName, dtype: object"
      ]
     },
     "execution_count": 102,
     "metadata": {},
     "output_type": "execute_result"
    }
   ],
   "source": [
    "df.ScreenName.describe()"
   ]
  }
 ],
 "metadata": {
  "kernelspec": {
   "display_name": "Python 3",
   "language": "python",
   "name": "python3"
  },
  "language_info": {
   "codemirror_mode": {
    "name": "ipython",
    "version": 3
   },
   "file_extension": ".py",
   "mimetype": "text/x-python",
   "name": "python",
   "nbconvert_exporter": "python",
   "pygments_lexer": "ipython3",
   "version": "3.7.5"
  }
 },
 "nbformat": 4,
 "nbformat_minor": 4
}
